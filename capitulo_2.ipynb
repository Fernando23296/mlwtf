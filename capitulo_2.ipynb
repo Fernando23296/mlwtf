{
 "cells": [
  {
   "cell_type": "markdown",
   "metadata": {},
   "source": [
    "## CAPÍTULO 2 - TENSORFLOW ESSENTIALS"
   ]
  },
  {
   "cell_type": "markdown",
   "metadata": {},
   "source": [
    "### Representando Tensors\n",
    "<p>Una manera conveniente de describir un objeto en el mundo real es a través del listado de sus propiedades o características. Por ejemplo, se puede describir un auto por su color, modelo, tipo de motor, y mucho más. Una lista ordenada de características es un <b><i>feature vector</i></b>(vector de características) y es lo que exactamente se representa en el código de Tensorflow.</p>\n",
    "<p>Los feature vectors son los \"dispositivos\" mas usados en machine learning, por su simplicidad (son solo una lista de numeros). Una matriz concisamente representa una lista de vectores, donde cada columna de la matriz es una caracteristica de un vector</p>\n",
    "\n",
    "<p>Se puede acceder a un elemento de un matriz especificando el indice de su fila y columna. A veces es conveniente usar mas de dos indices, como cuando se quiere referenciar un pixel en una imagen de colores no solo se realiza usando la fila y columna, sino tambien por el canal (rojo/azul/verde). Un tensor es una generalizacion de una matriz que especifica un elemento por un numero arbitracio de indices.</p>\n",
    "\n",
    "<p>El rango de un tensor es el numero de indices que se necesita para acceder a un elemento especifico</p>\n"
   ]
  },
  {
   "cell_type": "code",
   "execution_count": 1,
   "metadata": {},
   "outputs": [],
   "source": [
    "ejemplo = [[[1,2],[3,4],[5,6]],[[7,8],[9,10],[11,12]]]"
   ]
  },
  {
   "cell_type": "code",
   "execution_count": 5,
   "metadata": {},
   "outputs": [
    {
     "data": {
      "text/plain": [
       "1"
      ]
     },
     "execution_count": 5,
     "metadata": {},
     "output_type": "execute_result"
    }
   ],
   "source": [
    "ejemplo[0][0][0]"
   ]
  },
  {
   "cell_type": "markdown",
   "metadata": {},
   "source": [
    "<p>El tensor \"ejemplo\" es de un tensor de rango 3, porque se necesito de 3 indices para especificar un elemento especifico.</p>"
   ]
  },
  {
   "cell_type": "markdown",
   "metadata": {},
   "source": [
    "### Diferentes formas de representar un tensor"
   ]
  },
  {
   "cell_type": "code",
   "execution_count": 10,
   "metadata": {},
   "outputs": [
    {
     "name": "stdout",
     "output_type": "stream",
     "text": [
      "<class 'list'>\n",
      "<class 'numpy.ndarray'>\n",
      "<class 'tensorflow.python.framework.ops.Tensor'>\n",
      "<class 'tensorflow.python.framework.ops.Tensor'>\n",
      "<class 'tensorflow.python.framework.ops.Tensor'>\n",
      "<class 'tensorflow.python.framework.ops.Tensor'>\n"
     ]
    }
   ],
   "source": [
    "import tensorflow as tf\n",
    "import numpy as np\n",
    "\n",
    "#Tres formas de definir un matriz 2x2\n",
    "m1 = [[1.0,2.0],[3.0,4.0]] #mediante listas\n",
    "\n",
    "m2 = np.array([[1.0,2.0],[3.0,4.0]], dtype=np.float32) #mediante ndarray de NumPy\n",
    "\n",
    "m3 = tf.constant([[1.0,2.0],[3.0,4.0]]) #Mediante tensores de TensorFlow\n",
    "\n",
    "print(type(m1))\n",
    "print(type(m2))\n",
    "print(type(m3))\n",
    "\n",
    "#Crear objetos tensor a partir de varios tipos\n",
    "t1 = tf.convert_to_tensor(m1, dtype=tf.float32)\n",
    "t2 = tf.convert_to_tensor(m2, dtype=tf.float32)\n",
    "t3 = tf.convert_to_tensor(m3, dtype=tf.float32)\n",
    "\n",
    "print(type(t1))\n",
    "print(type(t2))\n",
    "print(type(t3))\n"
   ]
  },
  {
   "cell_type": "markdown",
   "metadata": {},
   "source": [
    "<p>Despues de importar la libreria de TensorFlow, se puede usar el operador tf.constant como a continuacion</p>\n"
   ]
  },
  {
   "cell_type": "code",
   "execution_count": 11,
   "metadata": {},
   "outputs": [
    {
     "name": "stdout",
     "output_type": "stream",
     "text": [
      "Tensor(\"Const_7:0\", shape=(1, 2), dtype=float32)\n",
      "Tensor(\"Const_8:0\", shape=(2, 1), dtype=int32)\n",
      "Tensor(\"Const_9:0\", shape=(1, 5, 2), dtype=int32)\n"
     ]
    }
   ],
   "source": [
    "import tensorflow as tf\n",
    "\n",
    "m1 = tf.constant([[1.,2.]])\n",
    "\n",
    "m2 = tf.constant([[1],[2]])\n",
    "\n",
    "m3 = tf.constant([ [[1,2],\n",
    "                    [3,4],\n",
    "                    [5,6],\n",
    "                    [7,8],\n",
    "                    [9,10]] ])\n",
    "\n",
    "print(m1)\n",
    "print(m2)\n",
    "print(m3)"
   ]
  },
  {
   "cell_type": "markdown",
   "metadata": {},
   "source": [
    "<p>Cada objeto tensor tiene una etiqueta unica(name), una dimension(shape) que definen su estructura, y un tipo de dato (dtype) para especificar el tipo de valores que se manipularan.</p>\n",
    "\n",
    "<p>Se puede iniciar un tensor con ceros <b><i> tf.zeros(shape)</i></b>, con unos <b><i>tf.ones(shape)</i></b>. El valor del argumento <i><b>shape</b></i> es de una dimension (1D), tensor de tipo int32</p>"
   ]
  },
  {
   "cell_type": "code",
   "execution_count": null,
   "metadata": {},
   "outputs": [],
   "source": []
  }
 ],
 "metadata": {
  "kernelspec": {
   "display_name": "Python 3",
   "language": "python",
   "name": "python3"
  },
  "language_info": {
   "codemirror_mode": {
    "name": "ipython",
    "version": 3
   },
   "file_extension": ".py",
   "mimetype": "text/x-python",
   "name": "python",
   "nbconvert_exporter": "python",
   "pygments_lexer": "ipython3",
   "version": "3.6.6"
  }
 },
 "nbformat": 4,
 "nbformat_minor": 2
}
