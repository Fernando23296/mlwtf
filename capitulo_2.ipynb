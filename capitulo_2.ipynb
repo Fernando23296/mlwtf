{
 "cells": [
  {
   "cell_type": "markdown",
   "metadata": {},
   "source": [
    "## CAPÍTULO 2 - TENSORFLOW ESSENTIALS"
   ]
  },
  {
   "cell_type": "markdown",
   "metadata": {},
   "source": [
    "### Representando Tensors\n",
    "<p>Una manera conveniente de describir un objeto en el mundo real es a través del listado de sus propiedades o características. Por ejemplo, se puede describir un auto por su color, modelo, tipo de motor, y mucho más. Una lista ordenada de características es un <b><i>feature vector</i></b>(vector de características) y es lo que exactamente se representa en el código de Tensorflow.</p>\n",
    "<p>Los feature vectors son los \"dispositivos\" mas usados en machine learning, por su simplicidad (son solo una lista de numeros). Una matriz concisamente representa una lista de vectores, donde cada columna de la matriz es una caracteristica de un vector</p>\n",
    "\n",
    "<p>Se puede acceder a un elemento de un matriz especificando el indice de su fila y columna. A veces es conveniente usar mas de dos indices, como cuando se quiere referenciar un pixel en una imagen de colores no solo se realiza usando la fila y columna, sino tambien por el canal (rojo/azul/verde). Un tensor es una generalizacion de una matriz que especifica un elemento por un numero arbitracio de indices.</p>\n",
    "\n",
    "<p>El rango de un tensor es el numero de indices que se necesita para acceder a un elemento especifico</p>\n"
   ]
  },
  {
   "cell_type": "code",
   "execution_count": 1,
   "metadata": {},
   "outputs": [],
   "source": [
    "ejemplo = [[[1,2],[3,4],[5,6]],[[7,8],[9,10],[11,12]]]"
   ]
  },
  {
   "cell_type": "code",
   "execution_count": 5,
   "metadata": {},
   "outputs": [
    {
     "data": {
      "text/plain": [
       "1"
      ]
     },
     "execution_count": 5,
     "metadata": {},
     "output_type": "execute_result"
    }
   ],
   "source": [
    "ejemplo[0][0][0]"
   ]
  },
  {
   "cell_type": "markdown",
   "metadata": {},
   "source": [
    "<p>El tensor \"ejemplo\" es de un tensor de rango 3, porque se necesito de 3 indices para especificar un elemento especifico.</p>"
   ]
  },
  {
   "cell_type": "markdown",
   "metadata": {},
   "source": [
    "### Diferentes formas de representar un tensor"
   ]
  },
  {
   "cell_type": "code",
   "execution_count": 10,
   "metadata": {},
   "outputs": [
    {
     "name": "stdout",
     "output_type": "stream",
     "text": [
      "<class 'list'>\n",
      "<class 'numpy.ndarray'>\n",
      "<class 'tensorflow.python.framework.ops.Tensor'>\n",
      "<class 'tensorflow.python.framework.ops.Tensor'>\n",
      "<class 'tensorflow.python.framework.ops.Tensor'>\n",
      "<class 'tensorflow.python.framework.ops.Tensor'>\n"
     ]
    }
   ],
   "source": [
    "import tensorflow as tf\n",
    "import numpy as np\n",
    "\n",
    "#Tres formas de definir un matriz 2x2\n",
    "m1 = [[1.0,2.0],[3.0,4.0]] #mediante listas\n",
    "\n",
    "m2 = np.array([[1.0,2.0],[3.0,4.0]], dtype=np.float32) #mediante ndarray de NumPy\n",
    "\n",
    "m3 = tf.constant([[1.0,2.0],[3.0,4.0]]) #Mediante tensores de TensorFlow\n",
    "\n",
    "print(type(m1))\n",
    "print(type(m2))\n",
    "print(type(m3))\n",
    "\n",
    "#Crear objetos tensor a partir de varios tipos\n",
    "t1 = tf.convert_to_tensor(m1, dtype=tf.float32)\n",
    "t2 = tf.convert_to_tensor(m2, dtype=tf.float32)\n",
    "t3 = tf.convert_to_tensor(m3, dtype=tf.float32)\n",
    "\n",
    "print(type(t1))\n",
    "print(type(t2))\n",
    "print(type(t3))\n"
   ]
  },
  {
   "cell_type": "markdown",
   "metadata": {},
   "source": [
    "<p>Despues de importar la libreria de TensorFlow, se puede usar el operador tf.constant como a continuacion</p>\n"
   ]
  },
  {
   "cell_type": "code",
   "execution_count": 11,
   "metadata": {},
   "outputs": [
    {
     "name": "stdout",
     "output_type": "stream",
     "text": [
      "Tensor(\"Const_7:0\", shape=(1, 2), dtype=float32)\n",
      "Tensor(\"Const_8:0\", shape=(2, 1), dtype=int32)\n",
      "Tensor(\"Const_9:0\", shape=(1, 5, 2), dtype=int32)\n"
     ]
    }
   ],
   "source": [
    "import tensorflow as tf\n",
    "\n",
    "m1 = tf.constant([[1.,2.]])\n",
    "\n",
    "m2 = tf.constant([[1],[2]])\n",
    "\n",
    "m3 = tf.constant([ [[1,2],\n",
    "                    [3,4],\n",
    "                    [5,6],\n",
    "                    [7,8],\n",
    "                    [9,10]] ])\n",
    "\n",
    "print(m1)\n",
    "print(m2)\n",
    "print(m3)"
   ]
  },
  {
   "cell_type": "markdown",
   "metadata": {},
   "source": [
    "<p>Cada objeto tensor tiene una etiqueta unica(name), una dimension(shape) que definen su estructura, y un tipo de dato (dtype) para especificar el tipo de valores que se manipularan.</p>\n",
    "\n",
    "<p>Se puede iniciar un tensor con ceros <b><i> tf.zeros(shape)</i></b>, con unos <b><i>tf.ones(shape)</i></b>. El valor del argumento <i><b>shape</b></i> es de una dimension (1D), tensor de tipo int32</p>"
   ]
  },
  {
   "cell_type": "markdown",
   "metadata": {},
   "source": [
    "### Creando operadores\n",
    "\n",
    "Hay que tener en cuenta que definir una operación como por ejemplo la negación, es diferente de hacerla correr."
   ]
  },
  {
   "cell_type": "code",
   "execution_count": 14,
   "metadata": {},
   "outputs": [
    {
     "name": "stdout",
     "output_type": "stream",
     "text": [
      "Tensor(\"Const_12:0\", shape=(1, 2), dtype=int32)\n",
      "Tensor(\"Neg_2:0\", shape=(1, 2), dtype=int32)\n"
     ]
    }
   ],
   "source": [
    "import tensorflow as tf\n",
    "\n",
    "x = tf.constant([[1,2]])\n",
    "print(x)\n",
    "negMatrix = tf.negative(x)\n",
    "print(negMatrix)"
   ]
  },
  {
   "cell_type": "markdown",
   "metadata": {},
   "source": [
    "En la impresion no figura [[-1,-2]]. Esto es porque se esta imprimiendo la definicion de la negacion y no asi la actual evaluacion. "
   ]
  },
  {
   "cell_type": "markdown",
   "metadata": {},
   "source": [
    "### Operadores útiles TensorFlow\n",
    "Los operadores son los siguientes:\n",
    "<ul>\n",
    "    <li><b>tf.add(x,y)</b>: Suma dos tensores del mismo tipo.</li>\n",
    "    <li><b>tf.substract(x,y)</b>: Resta dos tensores del mismo tipo.</li>\n",
    "    <li><b>tf.multiply(x,y)</b>: Multiplica dos tensores.</li>\n",
    "    <li><b>tf.pow(x,y)</b>: Toma el elemento-sabio(?) y a 'y' como potencia (x^y)</li>\n",
    "    <li><b>tf.exp(x)</b>: Equivale al pow pero acá se usa 'e' (Euler), (x^e).</li>\n",
    "    <li><b>tf.sqrt(x)</b>: Equivalente a pow(x,0.5)</li>\n",
    "    <li><b>tf.div(x,y)</b>: Divide x entre y (x/y)</li>\n",
    "    <li><b>tf.truediv(x,y)</b>: Lo mismo que div pero acá los vuelve floats (?).</li>\n",
    "    <li><b>tf.floordiv(x,y)</b>: Lo mismo que div pero acá los redondea a ints (?).</li>\n",
    "    <li><b>tf.mod(x,y)</b>: Saca el modulo de x entre y.</li>\n",
    "</ul>"
   ]
  },
  {
   "cell_type": "markdown",
   "metadata": {},
   "source": [
    "### Ejecutando operadores con sesiones\n",
    "Una sesion es un espacio del sistema de software que se detalla en lineas de codigo se va a correr.\n",
    "En TensorFlow, una sesion establece como los dispositivos de hardware hablan uno con otro. De esta manera puedes diseñar tu algoritmo de Machine Learning sin preocuparte sobre <i>micromanaging</i> el hardware donde corre. \n",
    "\n",
    "Para ejecutar una operacion y recibir su valor calculado, TensorFlow requiere una sesión. Para hacelo solo necesita ser creado una clase <i>session</i> usando <b>tf.Session()</b> y decirle que se ejecute como operador. El resultado será un valor que despues se podra usar en los calculos."
   ]
  },
  {
   "cell_type": "markdown",
   "metadata": {},
   "source": [
    "#### Usando una sesion"
   ]
  },
  {
   "cell_type": "code",
   "execution_count": 18,
   "metadata": {},
   "outputs": [
    {
     "name": "stdout",
     "output_type": "stream",
     "text": [
      "[[-1 -2]]\n"
     ]
    }
   ],
   "source": [
    "import tensorflow as tf\n",
    "\n",
    "#Se define una matrix arbitraria\n",
    "x = tf.constant([[1.0,2.0]])\n",
    "\n",
    "#Se ejecuta la operación de negación en ella\n",
    "neg_op = tf.negative(x)\n",
    "\n",
    "#Se inicia una sescion para habilitar las ejecuciones de las operaciones\n",
    "with tf.Session() as sess:\n",
    "    result = sess.run(negMatrix) #le dice a la sesion que evalue negMatrix\n",
    "\n",
    "    #imprime el resultado\n",
    "print(result)"
   ]
  },
  {
   "cell_type": "markdown",
   "metadata": {},
   "source": [
    "Una sesion no solo configura donde el codigo sera \"computado\" en la maquina, tambien explica como se distribuirá el computo para paralelizar el computo (?).\n",
    "\n",
    "Todos los objetos Tensor tiene un <b>eval()</b> que evalua las operaciones matematicas que definen el valor. Pero la funcion <b>eval()</b> requiere una <b>session</b> definida para la libreria para entender como seria el mejor uso del hardware(?).\n",
    "\n",
    "A continuación se utilizará <b>sess.run(...)</b>, el cual es un equivalente a invocar <b>eval()</b> en el contexto de sesión."
   ]
  },
  {
   "cell_type": "markdown",
   "metadata": {},
   "source": [
    "Cuando se ejecuta un código TensorFlow a traves del entorno interactivo es a menudo facil crear una sesion en modo interactivo, donde la sesion es parte implicita de todas las llamadas  a <i><b>eval( )</b></i>. De esa manera, la variable <i><b>session</b></i> no necesita ser pasado a traves del codigo, haciendo facil el concetrarse en las partes relevantes del algoritmo."
   ]
  },
  {
   "cell_type": "markdown",
   "metadata": {},
   "source": [
    "#### Usando el modo interactivo"
   ]
  },
  {
   "cell_type": "code",
   "execution_count": 20,
   "metadata": {},
   "outputs": [
    {
     "name": "stdout",
     "output_type": "stream",
     "text": [
      "[[-1. -2.]]\n"
     ]
    }
   ],
   "source": [
    "import tensorflow as tf\n",
    "\n",
    "#Se inicia un sesion interactiva, tal que la variable sess no necesita mas ser pasado\n",
    "sess = tf.InteractiveSession()\n",
    "\n",
    "#Se define una matriz arbitraria y se la vuelve negativa\n",
    "x = tf.constant([[1.0,2.0]])\n",
    "negMatrix = tf.negative(x)\n",
    "\n",
    "#Ahora se puede evaluar la matriz negativa sin especificar implicitamente a la session \n",
    "result = negMatrix.eval()\n",
    "print(result)\n",
    "\n",
    "#Se cierra la sesion para no gastar recursos\n",
    "sess.close()"
   ]
  },
  {
   "cell_type": "markdown",
   "metadata": {},
   "source": [
    "### Entendiendo el código como un gráfico\n",
    "Se puede pensar en cada operación como un nodo en un gráfico. Los <b>edges</b> entre estos nodos representan la composición de las funciones matemáticas. Especificamente, el operador negativo que hemos estado estudiando es un nodo, y los <b>edges</b> de entrada y salida de este nodo representan como el nodo se transforma. Un tensor fluye (flows) a través del gráfico, lo cual es la razon de su nombre (TensorFlow)."
   ]
  },
  {
   "cell_type": "markdown",
   "metadata": {},
   "source": [
    "Cada operador es una función fuertemente tipada que toma como entrada un tensor de una dimension y da como salida un tesnor de la misma dimension. La funcion es representada como un gráfico en donde <b>los operadores son nodos y los edges son representados como las interacciones entre los nodos.</b>"
   ]
  },
  {
   "cell_type": "markdown",
   "metadata": {},
   "source": [
    "![TensorFlow Graph](img/tensorflow_graph.png)"
   ]
  },
  {
   "cell_type": "markdown",
   "metadata": {},
   "source": [
    "Los algoritmos de TensorFlow son visibles facilmente. Estos pueden ser facilmente descritos por diagramas de flujo. En terminos tecnicos un diagrama de flujo es un <i><b>dataflow graph</b></i>. Como ya se menciono antes, cada flecha en el <i><b>dataflow graph</b></i> es llamado edge, y cada estado en el  <i><b>dataflow graph</b></i> es llamado un nodo.\n",
    "\n",
    "El objetico de una sesion es de interpretar el codigo de Python en un  <i><b>dataflow graph</b></i> y despues asociar el \"calculo\" de cada nodo de el grafico a un CPU o un GPU."
   ]
  },
  {
   "cell_type": "markdown",
   "metadata": {},
   "source": [
    "### Ajustando configuraciones de session\n",
    "Tambien se puede pasar opciones a <b>tf.Session</b>. Por ejemplo TensorFlow automaticamente determina la mejor manera de asignar un dispositivo GPU o CPU a una operacion, dependiendo en la disponibilidad. Se puede pasar una opcion adicional, <b> log_device_placement = True</b>, cuando se crea una sesión, como se verá a continuación donde se mostrará en donde exactamente en el hardware los \"calculos\" son evocados."
   ]
  },
  {
   "cell_type": "markdown",
   "metadata": {},
   "source": [
    "#### Registrar una sesión"
   ]
  },
  {
   "cell_type": "code",
   "execution_count": 26,
   "metadata": {},
   "outputs": [
    {
     "name": "stdout",
     "output_type": "stream",
     "text": [
      "[[-1. -2.]]\n"
     ]
    }
   ],
   "source": [
    "import tensorflow as tf\n",
    "\n",
    "#Definimos la matriz y la negamos\n",
    "x = tf.constant([[1.,2.]])\n",
    "negMatrix = tf.negative(x)\n",
    "\n",
    "# Iniciamos una sesion con una configuracion especial pasada a el constructor para habilitar el registro\n",
    "with tf.Session(config=tf.ConfigProto(log_device_placement = True)) as sess:\n",
    "    result = sess.run(negMatrix)\n",
    "\n",
    "print(result)"
   ]
  },
  {
   "cell_type": "markdown",
   "metadata": {},
   "source": [
    "Las sesiones son escenciales en el codigo de TensorFlow. Se necesita llamar a una sesión a que \"corra\" la matemática. Una sesión no solo \"corre\" una operacion gráfica, sino que tambien puede tomar <i>placeholders, variables y constantes como entradas</i>. Hasta el momento ya se uso las constantes, más adelante se vera el uso de <i>variables y placeholders.</i>\n",
    "\n",
    "<li>\n",
    "    <ol><i><b>Placeholder:- </b></i>Es un valor que no esta asignado pero será inicializado por la session cuando esta se ejecute. Tipicamente, los placeholders son la entrada y salida de los modelos.</ol>\n",
    "    <ul><i><b>Variable:-</b></i>Es un valor que puede cambiar, como los parametros de un modelo de machine learning. Las variables deben ser iniciadas por la session antes de ser usadas.</ul>\n",
    "    <ul><i><b>Constantes:-</b></i> Son valores que no cambian, como los hiperparametros o los settings</ul>\n",
    "</li>"
   ]
  },
  {
   "cell_type": "code",
   "execution_count": null,
   "metadata": {},
   "outputs": [],
   "source": []
  }
 ],
 "metadata": {
  "kernelspec": {
   "display_name": "Python 3",
   "language": "python",
   "name": "python3"
  },
  "language_info": {
   "codemirror_mode": {
    "name": "ipython",
    "version": 3
   },
   "file_extension": ".py",
   "mimetype": "text/x-python",
   "name": "python",
   "nbconvert_exporter": "python",
   "pygments_lexer": "ipython3",
   "version": "3.6.6"
  }
 },
 "nbformat": 4,
 "nbformat_minor": 2
}
